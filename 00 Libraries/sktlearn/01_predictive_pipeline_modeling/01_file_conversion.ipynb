{
 "cells": [
  {
   "cell_type": "code",
   "execution_count": 2,
   "metadata": {},
   "outputs": [],
   "source": [
    "import os\n",
    "import arff\n",
    "import pandas as pd"
   ]
  },
  {
   "cell_type": "code",
   "execution_count": 3,
   "metadata": {},
   "outputs": [
    {
     "name": "stdout",
     "output_type": "stream",
     "text": [
      "Conversion complete: C:\\Users\\joshk\\Documents\\Progamming\\mach-learn datasets\\phpMawTba.arff → C:\\Users\\joshk\\Documents\\Progamming\\mach-learn datasets\\phpMawTba.csv\n"
     ]
    }
   ],
   "source": [
    "\n",
    "\n",
    "# Define file paths\n",
    "arff_file = r\"C:\\Users\\joshk\\Documents\\Progamming\\mach-learn datasets\\phpMawTba.arff\"\n",
    "csv_file = arff_file.replace(\".arff\", \".csv\")  # Save CSV in the same directory\n",
    "\n",
    "# Load the ARFF file\n",
    "with open(arff_file, \"r\") as f:\n",
    "    data = arff.load(f)\n",
    "\n",
    "# Convert to DataFrame\n",
    "df = pd.DataFrame(data[\"data\"], columns=[attr[0] for attr in data[\"attributes\"]])\n",
    "\n",
    "# Save as CSV\n",
    "df.to_csv(csv_file, index=False)\n",
    "\n",
    "print(f\"Conversion complete: {arff_file} → {csv_file}\")\n",
    "\n"
   ]
  }
 ],
 "metadata": {
  "kernelspec": {
   "display_name": "base",
   "language": "python",
   "name": "python3"
  },
  "language_info": {
   "codemirror_mode": {
    "name": "ipython",
    "version": 3
   },
   "file_extension": ".py",
   "mimetype": "text/x-python",
   "name": "python",
   "nbconvert_exporter": "python",
   "pygments_lexer": "ipython3",
   "version": "3.12.7"
  }
 },
 "nbformat": 4,
 "nbformat_minor": 2
}
